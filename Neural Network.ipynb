{
 "cells": [
  {
   "cell_type": "markdown",
   "metadata": {},
   "source": [
    "# Neural Network for binary classification using finite difference approximation to update the weights, Leaky ReLu in between the layers and sigmoid for the output"
   ]
  },
  {
   "cell_type": "code",
   "execution_count": 23,
   "metadata": {},
   "outputs": [],
   "source": [
    "import numpy as np\n",
    "import matplotlib.pyplot as plt\n",
    "import copy\n",
    "import matplotlib as mpl\n",
    "global_dpi = 120\n",
    "mpl.rcParams['figure.dpi']= global_dpi"
   ]
  },
  {
   "cell_type": "markdown",
   "metadata": {},
   "source": [
    "# Generate dummy data"
   ]
  },
  {
   "cell_type": "code",
   "execution_count": 24,
   "metadata": {},
   "outputs": [],
   "source": [
    "_input = []\n",
    "output = []\n",
    "input_dims = 5\n",
    "std_dev = 0.15\n",
    "number_of_points = 200\n",
    "for i in range(number_of_points):\n",
    "    intie = np.random.randint(0,2)\n",
    "    if intie == 1:\n",
    "        output.append(intie)\n",
    "        data = np.ones(input_dims)\n",
    "        data = np.asarray([np.random.normal(intie,std_dev) for x in data])\n",
    "        _input.append(copy.deepcopy(data))\n",
    "    else:\n",
    "        output.append(intie)\n",
    "        data = np.ones(input_dims)\n",
    "        data = np.asarray([np.random.normal(intie,std_dev) for x in data])\n",
    "        _input.append(copy.deepcopy(data))\n",
    "_input = np.asarray(_input)\n",
    "output = np.asarray(output)"
   ]
  },
  {
   "cell_type": "markdown",
   "metadata": {},
   "source": [
    "# Normalize input per variable (column)"
   ]
  },
  {
   "cell_type": "code",
   "execution_count": 25,
   "metadata": {},
   "outputs": [],
   "source": [
    "_input = _input.T\n",
    "for i in _input:\n",
    "    mini = np.min(i)\n",
    "    maxi = np.max(i)\n",
    "    for k in range(len(i)):\n",
    "        i[k] = (i[k]-mini)/(maxi-mini)\n",
    "_input = _input.T"
   ]
  },
  {
   "cell_type": "markdown",
   "metadata": {},
   "source": [
    "# Split dummy data"
   ]
  },
  {
   "cell_type": "code",
   "execution_count": 26,
   "metadata": {},
   "outputs": [],
   "source": [
    "fraction = 0.7\n",
    "index = number_of_points*0.7\n",
    "index = int(np.floor(index))\n",
    "train_x = _input[:index,:]\n",
    "train_y = output[:index]\n",
    "test_x = _input[index:,:]\n",
    "test_y = output[index:]"
   ]
  },
  {
   "cell_type": "markdown",
   "metadata": {},
   "source": [
    "# Neural Network for binary classification"
   ]
  },
  {
   "cell_type": "code",
   "execution_count": 27,
   "metadata": {},
   "outputs": [],
   "source": [
    "class Neural_Network:\n",
    "    def __init__(self,layers):\n",
    "        self.layers = layers\n",
    "        ################## Outputs\n",
    "        self.losses = []\n",
    "        self.accuracies = []\n",
    "        self.test_accuracies = []\n",
    "        self.test_losses = []\n",
    "        #################################\n",
    "        ###################### Initialize weights randomly\n",
    "        weights = []\n",
    "        for i in range(len(layers)-1):\n",
    "            cols =layers[i]\n",
    "            rows = layers[i+1]\n",
    "            w = np.random.uniform(-1,1,size = (rows,cols))\n",
    "            weights.append(copy.deepcopy(w))\n",
    "        self.weights = weights\n",
    "        #################################\n",
    "    def leaky_relu(self,x):\n",
    "        result = []\n",
    "        for i in x:\n",
    "            result.append(max(0.01*i,i))\n",
    "        return np.asarray(result)\n",
    "    def sigmoid(self,x):\n",
    "        return 1/(1+np.exp(-x))\n",
    "    def loss(self,p,y):\n",
    "        for i in range(len(p)):\n",
    "            ##tolerance\n",
    "            p[i] = min(p[i],0.9995)\n",
    "            p[i] = max(0.0005,p[i])\n",
    "            ###\n",
    "        -(y*np.log(p)+(1-y)*np.log(1-p))\n",
    "        return np.asarray(-(y*np.log(p)+(1-y)*np.log(1-p)))\n",
    "    def predict(self,x,weights = None, custom = False):\n",
    "        if not custom:\n",
    "            weights = self.weights\n",
    "        predictions = []\n",
    "        if len(x.shape) == 2:\n",
    "            for b in x:\n",
    "                cache = b\n",
    "                counter = 0 \n",
    "                for i in weights:\n",
    "                    cache = np.dot(i,cache)\n",
    "                    if counter < (len(weights)-1):\n",
    "                        cache = self.leaky_relu(cache)\n",
    "                    else:\n",
    "                        cache = self.sigmoid(cache)\n",
    "                    counter = counter + 1\n",
    "                predictions.append(cache[0])\n",
    "        elif len(x.shape) == 1:\n",
    "            cache = x\n",
    "            counter = 0 \n",
    "            for i in weights:\n",
    "                cache = np.dot(i,cache)\n",
    "                if counter < (len(weights)-1):\n",
    "                    cache = self.leaky_relu(cache)\n",
    "                else:\n",
    "                    cache = self.sigmoid(cache)\n",
    "                counter = counter + 1\n",
    "            predictions.append(cache[0])\n",
    "        else:\n",
    "            raise Exception('Unsupported input dimensions: ' + str(x.shape))\n",
    "        return np.asarray(predictions)\n",
    "    \n",
    "    def gradients(self,x,y,derriv_step_size = 0.00001):\n",
    "        ## calculate current loss\n",
    "        predictions = self.predict(x)\n",
    "        ##### Train losses\n",
    "        current_loss = self.loss(predictions,y)\n",
    "        current_loss = np.sum(current_loss)      \n",
    "        ##### Train accuracies\n",
    "        current_acc = self.accuracy(predictions,y)\n",
    "        #####\n",
    "        init_gradients = []\n",
    "        for i in self.weights:\n",
    "            init_gradients.append(np.zeros((i.shape)))\n",
    "        for i in range(len(self.weights)):\n",
    "            for k in range(self.weights[i].shape[0]):\n",
    "                for j in range(self.weights[i].shape[1]):\n",
    "                    weights = copy.deepcopy(self.weights)\n",
    "                    weights[i][k,j] += derriv_step_size\n",
    "                    predictions = self.predict(x,weights = weights,custom = True)\n",
    "                    new_loss = np.sum(self.loss(predictions,y))\n",
    "                    gradient = (new_loss-current_loss)/derriv_step_size\n",
    "                    init_gradients[i][k,j] = gradient\n",
    "        return init_gradients,current_loss,current_acc\n",
    "    def train(self,x,y,step_size = 0.005,iters =10,derriv_step_size = 0.00001, calc_test = False, x_test = None, y_test = None):\n",
    "        for i in range(iters):\n",
    "        ################ add all to lists\n",
    "            if calc_test:\n",
    "                predictions = self.predict(x_test)\n",
    "                self.test_losses.append(np.sum(self.loss(predictions,y_test)))\n",
    "                self.test_accuracies.append(self.accuracy(predictions,y_test) )\n",
    "            grads, loss, acc = self.gradients(x,y,derriv_step_size = derriv_step_size)\n",
    "            self.losses.append(loss)\n",
    "            self.accuracies.append(acc)\n",
    "        #################################\n",
    "            #### Update weights\n",
    "            for w,g in zip(self.weights,grads):\n",
    "                w += - step_size*g\n",
    "            #####\n",
    "            \n",
    "        ###### final outputs here\n",
    "        predictions = self.predict(x)\n",
    "        self.losses.append(np.sum(self.loss(predictions,y)))\n",
    "        self.accuracies.append(self.accuracy(predictions,y))\n",
    "        if calc_test:\n",
    "            predictions = self.predict(x_test)\n",
    "            self.test_losses.append(np.sum(self.loss(predictions,y_test))) \n",
    "            self.test_accuracies.append(self.accuracy(predictions,y_test))\n",
    "        ############### \n",
    "    def accuracy(self,p,y):\n",
    "        cache =  copy.deepcopy(p)\n",
    "        for i in range(len(cache)):\n",
    "            if cache[i] >= 0.5:\n",
    "                cache[i] = 1\n",
    "            else:\n",
    "                cache[i] = 0\n",
    "        cache = [int(i) for i in cache]\n",
    "        total = 0\n",
    "        correct = 0\n",
    "        for i,j in zip(cache,y):\n",
    "            if i == j:\n",
    "                correct += 1\n",
    "            total += 1\n",
    "        return correct/total"
   ]
  },
  {
   "cell_type": "markdown",
   "metadata": {},
   "source": [
    "# Test Neural Network"
   ]
  },
  {
   "cell_type": "code",
   "execution_count": 28,
   "metadata": {},
   "outputs": [],
   "source": [
    "### First layer of input dimension and last layer of dimension 1 (sigmoid)\n",
    "NN = Neural_Network([input_dims,3,1])\n",
    "####\n",
    "NN.train(train_x,train_y,iters = 1000,step_size = 0.005,derriv_step_size = 0.00001,\n",
    "          calc_test = True, x_test = test_x, y_test = test_y)"
   ]
  },
  {
   "cell_type": "code",
   "execution_count": 29,
   "metadata": {},
   "outputs": [
    {
     "data": {
      "image/png": "[encoded data removed]",
      "text/plain": [
       "<Figure size 720x480 with 1 Axes>"
      ]
     },
     "metadata": {
      "needs_background": "light"
     },
     "output_type": "display_data"
    }
   ],
   "source": [
    "plt.plot(NN.losses)\n",
    "plt.plot(NN.test_losses)\n",
    "plt.xlabel('Iterations')\n",
    "plt.ylabel('Loss')\n",
    "plt.legend(('Train','Validation'))\n",
    "plt.show()"
   ]
  },
  {
   "cell_type": "code",
   "execution_count": 30,
   "metadata": {},
   "outputs": [
    {
     "data": {
      "image/png": "[encoded data removed]",
      "text/plain": [
       "<Figure size 720x480 with 1 Axes>"
      ]
     },
     "metadata": {
      "needs_background": "light"
     },
     "output_type": "display_data"
    }
   ],
   "source": [
    "plt.plot(NN.accuracies)\n",
    "plt.plot(NN.test_accuracies)\n",
    "plt.xlabel('Iterations')\n",
    "plt.ylabel('Accuracy')\n",
    "plt.legend(('Train','Validation'))\n",
    "plt.show()"
   ]
  },
  {
   "cell_type": "markdown",
   "metadata": {},
   "source": [
    "# Weights"
   ]
  },
  {
   "cell_type": "code",
   "execution_count": 31,
   "metadata": {},
   "outputs": [
    {
     "name": "stdout",
     "output_type": "stream",
     "text": [
      "[array([[-2.08737789,  4.97263223, -3.54722841,  1.10088452, -1.6987055 ],\n",
      "       [-0.52429803, -1.0536016 , -1.09970607, -1.87579797, -0.86670309],\n",
      "       [-4.27067312, -3.15562033, -4.34599505, -4.38860661, -3.7279422 ]]), array([[-6.6353083 , -2.38060018, -8.90399614]])]\n"
     ]
    }
   ],
   "source": [
    "print(NN.weights)"
   ]
  },
  {
   "cell_type": "code",
   "execution_count": null,
   "metadata": {},
   "outputs": [],
   "source": []
  },
  {
   "cell_type": "code",
   "execution_count": null,
   "metadata": {},
   "outputs": [],
   "source": []
  },
  {
   "cell_type": "code",
   "execution_count": null,
   "metadata": {},
   "outputs": [],
   "source": []
  }
 ],
 "metadata": {
  "kernelspec": {
   "display_name": "Python 3",
   "language": "python",
   "name": "python3"
  },
  "language_info": {
   "codemirror_mode": {
    "name": "ipython",
    "version": 3
   },
   "file_extension": ".py",
   "mimetype": "text/x-python",
   "name": "python",
   "nbconvert_exporter": "python",
   "pygments_lexer": "ipython3",
   "version": "3.7.4"
  }
 },
 "nbformat": 4,
 "nbformat_minor": 2
}
